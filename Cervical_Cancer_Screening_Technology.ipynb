{
  "nbformat": 4,
  "nbformat_minor": 0,
  "metadata": {
    "colab": {
      "name": "Cervical Cancer Screening Technology",
      "provenance": [],
      "collapsed_sections": [],
      "include_colab_link": true
    },
    "kernelspec": {
      "name": "python3",
      "display_name": "Python 3"
    }
  },
  "cells": [
    {
      "cell_type": "markdown",
      "metadata": {
        "id": "view-in-github",
        "colab_type": "text"
      },
      "source": [
        "<a href=\"https://colab.research.google.com/github/Innocent607/Cervical-Cancer-Screening-and-detection/blob/master/Cervical_Cancer_Screening_Technology.ipynb\" target=\"_parent\"><img src=\"https://colab.research.google.com/assets/colab-badge.svg\" alt=\"Open In Colab\"/></a>"
      ]
    },
    {
      "cell_type": "markdown",
      "metadata": {
        "id": "uV_PBfzbR59Q"
      },
      "source": [
        "edit from here...\n",
        "\n",
        "this will be our start...\n"
      ]
    },
    {
      "cell_type": "code",
      "metadata": {
        "id": "WV7Y6Y6CPb51",
        "colab": {
          "base_uri": "https://localhost:8080/",
          "height": 34
        },
        "outputId": "2aa5ff9a-906f-4a9b-d670-2391c44d45ec"
      },
      "source": [
        "from keras import layers\n",
        "from keras import models\n",
        "from keras.utils import to_categorical\n",
        "import matplotlib.pyplot as plt\n",
        "import numpy as np\n",
        "from keras.preprocessing.image import ImageDataGenerator\n",
        "from keras.applications import InceptionV3\n",
        "from keras.models import Sequential\n",
        "from keras.layers import Dense, Flatten, Dropout, Conv2D, MaxPooling2D, BatchNormalization\n",
        "from keras import optimizers, regularizers\n",
        "\n",
        "from keras.layers.core import Activation\n",
        "\n"
      ],
      "execution_count": null,
      "outputs": [
        {
          "output_type": "stream",
          "text": [
            "Using TensorFlow backend.\n"
          ],
          "name": "stderr"
        }
      ]
    },
    {
      "cell_type": "code",
      "metadata": {
        "id": "_Um3-xVyRljZ",
        "colab": {
          "base_uri": "https://localhost:8080/",
          "height": 34
        },
        "outputId": "7596cf12-d0ed-44dc-b42a-51dd0a455536"
      },
      "source": [
        "\n",
        "import os\n",
        "import cv2\n",
        "import random\n",
        "import pickle\n",
        "from os import path\n",
        "import glob\n",
        "from google.colab import drive\n",
        "drive.mount(\"/content/drive/\", force_remount=True)"
      ],
      "execution_count": null,
      "outputs": [
        {
          "output_type": "stream",
          "text": [
            "Mounted at /content/drive/\n"
          ],
          "name": "stdout"
        }
      ]
    },
    {
      "cell_type": "code",
      "metadata": {
        "id": "9WmkcLZ0Pjck",
        "colab": {
          "base_uri": "https://localhost:8080/",
          "height": 69
        },
        "outputId": "9a971f09-a2a5-4703-ef2e-7bb6b5a02659"
      },
      "source": [
        "RESOLUTION = 250\n",
        "BATCH_SIZE = 2\n",
        "\n",
        "train_datagen = ImageDataGenerator(rescale=1./255, validation_split=0.6)\n",
        "val_datagen = ImageDataGenerator(rescale=1./255, validation_split=0.1)\n",
        "\n",
        "train_generator = train_datagen.flow_from_directory('/content/drive/My Drive/cancer_dataset/train/', target_size=(RESOLUTION, RESOLUTION), batch_size = BATCH_SIZE, class_mode='categorical', subset='training')\n",
        "\n",
        "#val_datagen = ImageDataGenerator(rescale=1./255, validation_split=0.1)\n",
        "\n",
        "val_generator = val_datagen.flow_from_directory(\n",
        "        '/content/drive/My Drive/cancer_dataset/train/', target_size=(RESOLUTION, RESOLUTION), batch_size = BATCH_SIZE, class_mode='categorical', subset='training')\n",
        "\n",
        "test_datagen=ImageDataGenerator(rescale=1./255, validation_split=0.3)\n",
        "test_generator = test_datagen.flow_from_directory(\n",
        "        '/content/drive/My Drive/cancer_dataset/test/', target_size=(RESOLUTION, RESOLUTION), batch_size = BATCH_SIZE, class_mode='categorical', subset='validation')"
      ],
      "execution_count": null,
      "outputs": [
        {
          "output_type": "stream",
          "text": [
            "Found 7 images belonging to 2 classes.\n",
            "Found 15 images belonging to 2 classes.\n",
            "Found 0 images belonging to 2 classes.\n"
          ],
          "name": "stdout"
        }
      ]
    },
    {
      "cell_type": "code",
      "metadata": {
        "id": "P1XUAyCPuk2l"
      },
      "source": [
        ""
      ],
      "execution_count": null,
      "outputs": []
    },
    {
      "cell_type": "code",
      "metadata": {
        "id": "p_t_FZcDQ3eb"
      },
      "source": [
        "model = Sequential()\n",
        "model.add(Conv2D(96, kernel_size = (11, 11), input_shape=(RESOLUTION, RESOLUTION, 3)))\n",
        "convout1 = Activation('relu')\n",
        "model.add(convout1)\n",
        "convout2 = MaxPooling2D(pool_size=(3,3))\n",
        "model.add(convout2)\n",
        "model.add(BatchNormalization())\n",
        "\n",
        "model.add(Conv2D(256, kernel_size=(5,5)))\n",
        "convout3 = Activation('relu')\n",
        "model.add(convout3)\n",
        "convout4 = MaxPooling2D(pool_size=(3,3))\n",
        "model.add(convout4)\n",
        "model.add(BatchNormalization())\n",
        "\n",
        "model.add(Conv2D(384, kernel_size=(3,3), activation='relu'))\n",
        "model.add(MaxPooling2D(pool_size=(3,3)))\n",
        "model.add(BatchNormalization())\n",
        "\n",
        "model.add(Conv2D(384, kernel_size=(2,2), activation='relu'))\n",
        "model.add(MaxPooling2D(pool_size=(3,3)))\n",
        "model.add(BatchNormalization())\n",
        "\n",
        "model.add(Conv2D(384, kernel_size=(2,2)))\n",
        "convout5 = Activation('relu')\n",
        "model.add(convout5)\n",
        "convout6 = MaxPooling2D(pool_size=(1,1))\n",
        "model.add(convout6)\n",
        "model.add(BatchNormalization())\n",
        "\n",
        "model.add(Conv2D(256, kernel_size=(1,1), activation='relu'))\n",
        "model.add(MaxPooling2D(pool_size=(1,1)))\n",
        "model.add(BatchNormalization())\n",
        "model.add(Dropout(0.2))\n",
        "\n",
        "model.add(Flatten())\n",
        "model.add(Dense(128, activation='relu'))\n",
        "#model.add(Dropout(0.3))\n",
        "model.add(Dense(2, activation = 'softmax'))\n",
        "\n",
        "sgd = optimizers.SGD(lr=0.01, decay=1e-6, momentum=0.9, nesterov=True)\n",
        "model.compile(loss='categorical_crossentropy', optimizer=optimizers.RMSprop(lr=1e-5), metrics=['acc'])\n"
      ],
      "execution_count": null,
      "outputs": []
    },
    {
      "cell_type": "code",
      "metadata": {
        "id": "a1y6k4NjQ96y",
        "colab": {
          "base_uri": "https://localhost:8080/",
          "height": 1000
        },
        "outputId": "63a8e837-0d27-4df8-b765-a7d6299b0174"
      },
      "source": [
        "model.summary()"
      ],
      "execution_count": null,
      "outputs": [
        {
          "output_type": "stream",
          "text": [
            "Model: \"sequential_1\"\n",
            "_________________________________________________________________\n",
            "Layer (type)                 Output Shape              Param #   \n",
            "=================================================================\n",
            "conv2d_1 (Conv2D)            (None, 240, 240, 96)      34944     \n",
            "_________________________________________________________________\n",
            "activation_1 (Activation)    (None, 240, 240, 96)      0         \n",
            "_________________________________________________________________\n",
            "max_pooling2d_1 (MaxPooling2 (None, 80, 80, 96)        0         \n",
            "_________________________________________________________________\n",
            "batch_normalization_1 (Batch (None, 80, 80, 96)        384       \n",
            "_________________________________________________________________\n",
            "conv2d_2 (Conv2D)            (None, 76, 76, 256)       614656    \n",
            "_________________________________________________________________\n",
            "activation_2 (Activation)    (None, 76, 76, 256)       0         \n",
            "_________________________________________________________________\n",
            "max_pooling2d_2 (MaxPooling2 (None, 25, 25, 256)       0         \n",
            "_________________________________________________________________\n",
            "batch_normalization_2 (Batch (None, 25, 25, 256)       1024      \n",
            "_________________________________________________________________\n",
            "conv2d_3 (Conv2D)            (None, 23, 23, 384)       885120    \n",
            "_________________________________________________________________\n",
            "max_pooling2d_3 (MaxPooling2 (None, 7, 7, 384)         0         \n",
            "_________________________________________________________________\n",
            "batch_normalization_3 (Batch (None, 7, 7, 384)         1536      \n",
            "_________________________________________________________________\n",
            "conv2d_4 (Conv2D)            (None, 6, 6, 384)         590208    \n",
            "_________________________________________________________________\n",
            "max_pooling2d_4 (MaxPooling2 (None, 2, 2, 384)         0         \n",
            "_________________________________________________________________\n",
            "batch_normalization_4 (Batch (None, 2, 2, 384)         1536      \n",
            "_________________________________________________________________\n",
            "conv2d_5 (Conv2D)            (None, 1, 1, 384)         590208    \n",
            "_________________________________________________________________\n",
            "activation_3 (Activation)    (None, 1, 1, 384)         0         \n",
            "_________________________________________________________________\n",
            "max_pooling2d_5 (MaxPooling2 (None, 1, 1, 384)         0         \n",
            "_________________________________________________________________\n",
            "batch_normalization_5 (Batch (None, 1, 1, 384)         1536      \n",
            "_________________________________________________________________\n",
            "conv2d_6 (Conv2D)            (None, 1, 1, 256)         98560     \n",
            "_________________________________________________________________\n",
            "max_pooling2d_6 (MaxPooling2 (None, 1, 1, 256)         0         \n",
            "_________________________________________________________________\n",
            "batch_normalization_6 (Batch (None, 1, 1, 256)         1024      \n",
            "_________________________________________________________________\n",
            "dropout_1 (Dropout)          (None, 1, 1, 256)         0         \n",
            "_________________________________________________________________\n",
            "flatten_1 (Flatten)          (None, 256)               0         \n",
            "_________________________________________________________________\n",
            "dense_1 (Dense)              (None, 128)               32896     \n",
            "_________________________________________________________________\n",
            "dense_2 (Dense)              (None, 2)                 258       \n",
            "=================================================================\n",
            "Total params: 2,853,890\n",
            "Trainable params: 2,850,370\n",
            "Non-trainable params: 3,520\n",
            "_________________________________________________________________\n"
          ],
          "name": "stdout"
        }
      ]
    },
    {
      "cell_type": "code",
      "metadata": {
        "id": "xobRMHDjQ_Mb",
        "colab": {
          "base_uri": "https://localhost:8080/",
          "height": 1000
        },
        "outputId": "b63f198e-9275-4582-ebb9-3cd1529bdcc5"
      },
      "source": [
        "N_TRAIN = 12 #62\n",
        "N_VAL = 6\n",
        "history = model.fit_generator(\n",
        "        train_generator,\n",
        "        steps_per_epoch=(N_TRAIN // BATCH_SIZE),\n",
        "        epochs=100,\n",
        "        validation_data=val_generator,\n",
        "        validation_steps=(N_VAL // BATCH_SIZE)\n",
        "        )\n"
      ],
      "execution_count": null,
      "outputs": [
        {
          "output_type": "stream",
          "text": [
            "Epoch 1/100\n",
            "6/6 [==============================] - 10s 2s/step - loss: 0.7398 - acc: 0.7273 - val_loss: 0.6971 - val_acc: 0.3333\n",
            "Epoch 2/100\n",
            "6/6 [==============================] - 8s 1s/step - loss: 0.7422 - acc: 0.4000 - val_loss: 0.7152 - val_acc: 0.3333\n",
            "Epoch 3/100\n",
            "6/6 [==============================] - 8s 1s/step - loss: 0.6415 - acc: 0.9000 - val_loss: 0.6951 - val_acc: 0.6000\n",
            "Epoch 4/100\n",
            "6/6 [==============================] - 9s 2s/step - loss: 0.6672 - acc: 0.7273 - val_loss: 0.6940 - val_acc: 0.3333\n",
            "Epoch 5/100\n",
            "6/6 [==============================] - 8s 1s/step - loss: 0.5047 - acc: 0.8000 - val_loss: 0.6980 - val_acc: 0.5000\n",
            "Epoch 6/100\n",
            "6/6 [==============================] - 9s 1s/step - loss: 0.4986 - acc: 0.7273 - val_loss: 0.7762 - val_acc: 0.2000\n",
            "Epoch 7/100\n",
            "6/6 [==============================] - 8s 1s/step - loss: 0.6072 - acc: 0.6000 - val_loss: 0.6988 - val_acc: 0.5000\n",
            "Epoch 8/100\n",
            "6/6 [==============================] - 9s 1s/step - loss: 0.5522 - acc: 0.7273 - val_loss: 0.8199 - val_acc: 0.4000\n",
            "Epoch 9/100\n",
            "6/6 [==============================] - 9s 1s/step - loss: 0.6974 - acc: 0.5455 - val_loss: 0.7042 - val_acc: 0.5000\n",
            "Epoch 10/100\n",
            "6/6 [==============================] - 8s 1s/step - loss: 0.7156 - acc: 0.6000 - val_loss: 0.7043 - val_acc: 0.5000\n",
            "Epoch 11/100\n",
            "6/6 [==============================] - 9s 1s/step - loss: 0.3123 - acc: 0.9091 - val_loss: 0.9102 - val_acc: 0.0000e+00\n",
            "Epoch 12/100\n",
            "6/6 [==============================] - 8s 1s/step - loss: 0.5288 - acc: 0.8000 - val_loss: 0.7171 - val_acc: 0.5000\n",
            "Epoch 13/100\n",
            "6/6 [==============================] - 8s 1s/step - loss: 0.7348 - acc: 0.6000 - val_loss: 0.7185 - val_acc: 0.5000\n",
            "Epoch 14/100\n",
            "6/6 [==============================] - 9s 1s/step - loss: 0.7293 - acc: 0.6364 - val_loss: 0.9456 - val_acc: 0.2000\n",
            "Epoch 15/100\n",
            "6/6 [==============================] - 8s 1s/step - loss: 0.6199 - acc: 0.6000 - val_loss: 0.7246 - val_acc: 0.5000\n",
            "Epoch 16/100\n",
            "6/6 [==============================] - 9s 1s/step - loss: 0.5314 - acc: 0.6364 - val_loss: 0.4507 - val_acc: 0.4000\n",
            "Epoch 17/100\n",
            "6/6 [==============================] - 8s 1s/step - loss: 0.5872 - acc: 0.8000 - val_loss: 0.4426 - val_acc: 0.3333\n",
            "Epoch 18/100\n",
            "6/6 [==============================] - 9s 2s/step - loss: 0.5670 - acc: 0.7273 - val_loss: 0.7537 - val_acc: 0.3333\n",
            "Epoch 19/100\n",
            "6/6 [==============================] - 9s 1s/step - loss: 0.4543 - acc: 0.9091 - val_loss: 1.0562 - val_acc: 0.4000\n",
            "Epoch 20/100\n",
            "6/6 [==============================] - 8s 1s/step - loss: 0.6168 - acc: 0.6000 - val_loss: 1.0799 - val_acc: 0.5000\n",
            "Epoch 21/100\n",
            "6/6 [==============================] - 8s 1s/step - loss: 0.5775 - acc: 0.8000 - val_loss: 0.3928 - val_acc: 0.3333\n",
            "Epoch 22/100\n",
            "6/6 [==============================] - 9s 1s/step - loss: 0.3974 - acc: 0.9091 - val_loss: 0.3890 - val_acc: 0.6000\n",
            "Epoch 23/100\n",
            "6/6 [==============================] - 9s 1s/step - loss: 0.5803 - acc: 0.8182 - val_loss: 1.1395 - val_acc: 0.1667\n",
            "Epoch 24/100\n",
            "6/6 [==============================] - 8s 1s/step - loss: 0.4840 - acc: 0.7000 - val_loss: 0.3466 - val_acc: 0.6000\n",
            "Epoch 25/100\n",
            "6/6 [==============================] - 8s 1s/step - loss: 0.6245 - acc: 0.8000 - val_loss: 1.1586 - val_acc: 0.1667\n",
            "Epoch 26/100\n",
            "6/6 [==============================] - 9s 2s/step - loss: 0.5042 - acc: 0.7273 - val_loss: 1.2392 - val_acc: 0.5000\n",
            "Epoch 27/100\n",
            "6/6 [==============================] - 9s 1s/step - loss: 0.4229 - acc: 0.7273 - val_loss: 0.8020 - val_acc: 0.6000\n",
            "Epoch 28/100\n",
            "6/6 [==============================] - 8s 1s/step - loss: 0.4070 - acc: 0.8000 - val_loss: 0.8230 - val_acc: 0.5000\n",
            "Epoch 29/100\n",
            "6/6 [==============================] - 9s 2s/step - loss: 0.3804 - acc: 0.9091 - val_loss: 1.2972 - val_acc: 0.3333\n",
            "Epoch 30/100\n",
            "6/6 [==============================] - 8s 1s/step - loss: 0.4074 - acc: 1.0000 - val_loss: 0.7831 - val_acc: 0.4000\n",
            "Epoch 31/100\n",
            "6/6 [==============================] - 8s 1s/step - loss: 0.4199 - acc: 0.8000 - val_loss: 0.7931 - val_acc: 0.1667\n",
            "Epoch 32/100\n",
            "6/6 [==============================] - 9s 1s/step - loss: 0.3982 - acc: 0.8182 - val_loss: 1.1684 - val_acc: 0.6000\n",
            "Epoch 33/100\n",
            "6/6 [==============================] - 8s 1s/step - loss: 0.3285 - acc: 0.9000 - val_loss: 0.4168 - val_acc: 0.5000\n",
            "Epoch 34/100\n",
            "6/6 [==============================] - 9s 2s/step - loss: 0.3033 - acc: 0.9091 - val_loss: 0.4348 - val_acc: 0.3333\n",
            "Epoch 35/100\n",
            "6/6 [==============================] - 9s 1s/step - loss: 0.3909 - acc: 0.8182 - val_loss: 1.1770 - val_acc: 0.2000\n",
            "Epoch 36/100\n",
            "6/6 [==============================] - 8s 1s/step - loss: 0.4061 - acc: 0.8000 - val_loss: 1.0417 - val_acc: 0.5000\n",
            "Epoch 37/100\n",
            "6/6 [==============================] - 8s 1s/step - loss: 0.3418 - acc: 0.7000 - val_loss: 0.5328 - val_acc: 0.5000\n",
            "Epoch 38/100\n",
            "6/6 [==============================] - 9s 1s/step - loss: 0.3959 - acc: 0.7273 - val_loss: 0.5329 - val_acc: 0.6000\n",
            "Epoch 39/100\n",
            "6/6 [==============================] - 9s 2s/step - loss: 0.2593 - acc: 0.9091 - val_loss: 0.7758 - val_acc: 0.1667\n",
            "Epoch 40/100\n",
            "6/6 [==============================] - 8s 1s/step - loss: 0.3251 - acc: 1.0000 - val_loss: 0.9030 - val_acc: 0.4000\n",
            "Epoch 41/100\n",
            "6/6 [==============================] - 8s 1s/step - loss: 0.4343 - acc: 0.7000 - val_loss: 0.5624 - val_acc: 0.5000\n",
            "Epoch 42/100\n",
            "6/6 [==============================] - 9s 2s/step - loss: 0.4460 - acc: 0.7273 - val_loss: 0.7856 - val_acc: 0.5000\n",
            "Epoch 43/100\n",
            "6/6 [==============================] - 8s 1s/step - loss: 0.3461 - acc: 0.8000 - val_loss: 0.9468 - val_acc: 0.2000\n",
            "Epoch 44/100\n",
            "6/6 [==============================] - 9s 2s/step - loss: 0.3694 - acc: 0.9091 - val_loss: 0.7137 - val_acc: 0.3333\n",
            "Epoch 45/100\n",
            "6/6 [==============================] - 8s 1s/step - loss: 0.3125 - acc: 0.8000 - val_loss: 0.9223 - val_acc: 0.6667\n",
            "Epoch 46/100\n",
            "6/6 [==============================] - 9s 2s/step - loss: 0.3687 - acc: 1.0000 - val_loss: 0.9029 - val_acc: 0.0000e+00\n",
            "Epoch 47/100\n",
            "6/6 [==============================] - 8s 1s/step - loss: 0.4777 - acc: 0.9000 - val_loss: 0.8727 - val_acc: 0.3333\n",
            "Epoch 48/100\n",
            "6/6 [==============================] - 9s 2s/step - loss: 0.3515 - acc: 0.9091 - val_loss: 0.5586 - val_acc: 0.8000\n",
            "Epoch 49/100\n",
            "6/6 [==============================] - 9s 2s/step - loss: 0.4265 - acc: 0.8182 - val_loss: 0.9109 - val_acc: 0.5000\n",
            "Epoch 50/100\n",
            "6/6 [==============================] - 9s 1s/step - loss: 0.4470 - acc: 0.9000 - val_loss: 0.7167 - val_acc: 0.3333\n",
            "Epoch 51/100\n",
            "6/6 [==============================] - 9s 1s/step - loss: 0.3230 - acc: 0.9091 - val_loss: 0.8809 - val_acc: 0.4000\n",
            "Epoch 52/100\n",
            "6/6 [==============================] - 8s 1s/step - loss: 0.3270 - acc: 0.9000 - val_loss: 0.8574 - val_acc: 0.3333\n",
            "Epoch 53/100\n",
            "6/6 [==============================] - 8s 1s/step - loss: 0.4828 - acc: 0.8000 - val_loss: 1.0292 - val_acc: 0.3333\n",
            "Epoch 54/100\n",
            "6/6 [==============================] - 9s 1s/step - loss: 0.4555 - acc: 0.7273 - val_loss: 0.5670 - val_acc: 0.6000\n",
            "Epoch 55/100\n",
            "6/6 [==============================] - 9s 2s/step - loss: 0.3966 - acc: 0.9091 - val_loss: 0.8497 - val_acc: 0.1667\n",
            "Epoch 56/100\n",
            "6/6 [==============================] - 8s 1s/step - loss: 0.4286 - acc: 0.8000 - val_loss: 1.5869 - val_acc: 0.6000\n",
            "Epoch 57/100\n",
            "6/6 [==============================] - 9s 2s/step - loss: 0.4213 - acc: 1.0000 - val_loss: 0.8772 - val_acc: 0.6667\n",
            "Epoch 58/100\n",
            "6/6 [==============================] - 8s 1s/step - loss: 0.5567 - acc: 0.9000 - val_loss: 1.0073 - val_acc: 0.3333\n",
            "Epoch 59/100\n",
            "6/6 [==============================] - 8s 1s/step - loss: 0.5286 - acc: 0.9000 - val_loss: 0.6147 - val_acc: 0.4000\n",
            "Epoch 60/100\n",
            "6/6 [==============================] - 9s 2s/step - loss: 0.3306 - acc: 0.9091 - val_loss: 1.4514 - val_acc: 0.3333\n",
            "Epoch 61/100\n",
            "6/6 [==============================] - 9s 2s/step - loss: 0.3725 - acc: 0.8182 - val_loss: 0.8938 - val_acc: 0.3333\n",
            "Epoch 62/100\n",
            "6/6 [==============================] - 8s 1s/step - loss: 0.3785 - acc: 0.8000 - val_loss: 0.5899 - val_acc: 0.6000\n",
            "Epoch 63/100\n",
            "6/6 [==============================] - 8s 1s/step - loss: 0.2929 - acc: 0.9000 - val_loss: 0.7784 - val_acc: 0.5000\n",
            "Epoch 64/100\n",
            "6/6 [==============================] - 9s 1s/step - loss: 0.2388 - acc: 0.9091 - val_loss: 1.9227 - val_acc: 0.4000\n",
            "Epoch 65/100\n",
            "6/6 [==============================] - 9s 1s/step - loss: 0.4206 - acc: 0.6364 - val_loss: 1.5607 - val_acc: 0.3333\n",
            "Epoch 66/100\n",
            "6/6 [==============================] - 8s 1s/step - loss: 0.3781 - acc: 0.7000 - val_loss: 1.3741 - val_acc: 0.3333\n",
            "Epoch 67/100\n",
            "6/6 [==============================] - 8s 1s/step - loss: 0.4191 - acc: 0.7000 - val_loss: 1.4274 - val_acc: 0.4000\n",
            "Epoch 68/100\n",
            "6/6 [==============================] - 9s 2s/step - loss: 0.3470 - acc: 0.8182 - val_loss: 1.1862 - val_acc: 0.5000\n",
            "Epoch 69/100\n",
            "6/6 [==============================] - 8s 1s/step - loss: 0.3568 - acc: 0.8000 - val_loss: 0.2800 - val_acc: 0.8333\n",
            "Epoch 70/100\n",
            "6/6 [==============================] - 9s 1s/step - loss: 0.3205 - acc: 0.9091 - val_loss: 1.2393 - val_acc: 0.4000\n",
            "Epoch 71/100\n",
            "6/6 [==============================] - 8s 1s/step - loss: 0.3573 - acc: 0.9000 - val_loss: 0.7861 - val_acc: 0.6667\n",
            "Epoch 72/100\n",
            "6/6 [==============================] - 9s 1s/step - loss: 0.5763 - acc: 0.7273 - val_loss: 3.3292 - val_acc: 0.4000\n",
            "Epoch 73/100\n",
            "6/6 [==============================] - 9s 1s/step - loss: 0.5268 - acc: 0.8182 - val_loss: 0.6276 - val_acc: 0.3333\n",
            "Epoch 74/100\n",
            "6/6 [==============================] - 8s 1s/step - loss: 0.2999 - acc: 0.9000 - val_loss: 0.5616 - val_acc: 0.3333\n",
            "Epoch 75/100\n",
            "6/6 [==============================] - 9s 1s/step - loss: 0.2523 - acc: 0.9091 - val_loss: 0.5642 - val_acc: 0.8000\n",
            "Epoch 76/100\n",
            "6/6 [==============================] - 8s 1s/step - loss: 0.3213 - acc: 0.9000 - val_loss: 1.5818 - val_acc: 0.5000\n",
            "Epoch 77/100\n",
            "6/6 [==============================] - 9s 2s/step - loss: 0.3169 - acc: 1.0000 - val_loss: 0.1676 - val_acc: 0.8333\n",
            "Epoch 78/100\n",
            "6/6 [==============================] - 8s 1s/step - loss: 0.3346 - acc: 0.9000 - val_loss: 1.3218 - val_acc: 0.6000\n",
            "Epoch 79/100\n",
            "6/6 [==============================] - 9s 2s/step - loss: 0.1866 - acc: 0.9091 - val_loss: 0.8838 - val_acc: 0.5000\n",
            "Epoch 80/100\n",
            "6/6 [==============================] - 8s 1s/step - loss: 0.3845 - acc: 1.0000 - val_loss: 0.1111 - val_acc: 0.6000\n",
            "Epoch 81/100\n",
            "6/6 [==============================] - 9s 2s/step - loss: 0.2084 - acc: 1.0000 - val_loss: 0.2984 - val_acc: 0.6667\n",
            "Epoch 82/100\n",
            "6/6 [==============================] - 9s 1s/step - loss: 0.4607 - acc: 0.8000 - val_loss: 1.1354 - val_acc: 0.6667\n",
            "Epoch 83/100\n",
            "6/6 [==============================] - 9s 1s/step - loss: 0.4810 - acc: 0.7273 - val_loss: 1.5267 - val_acc: 0.8000\n",
            "Epoch 84/100\n",
            "6/6 [==============================] - 8s 1s/step - loss: 0.3885 - acc: 0.8000 - val_loss: 0.3938 - val_acc: 0.6667\n",
            "Epoch 85/100\n",
            "6/6 [==============================] - 8s 1s/step - loss: 0.3503 - acc: 0.9000 - val_loss: 0.4737 - val_acc: 0.8333\n",
            "Epoch 86/100\n",
            "6/6 [==============================] - 9s 2s/step - loss: 0.2472 - acc: 1.0000 - val_loss: 0.4697 - val_acc: 0.6000\n",
            "Epoch 87/100\n",
            "6/6 [==============================] - 9s 2s/step - loss: 0.3763 - acc: 0.9091 - val_loss: 0.3980 - val_acc: 0.8333\n",
            "Epoch 88/100\n",
            "6/6 [==============================] - 8s 1s/step - loss: 0.4306 - acc: 0.9000 - val_loss: 1.3032 - val_acc: 0.4000\n",
            "Epoch 89/100\n",
            "6/6 [==============================] - 9s 1s/step - loss: 0.4198 - acc: 0.7273 - val_loss: 0.7124 - val_acc: 0.8333\n",
            "Epoch 90/100\n",
            "6/6 [==============================] - 8s 1s/step - loss: 0.3181 - acc: 0.9000 - val_loss: 1.5336 - val_acc: 0.5000\n",
            "Epoch 91/100\n",
            "6/6 [==============================] - 8s 1s/step - loss: 0.3686 - acc: 0.9000 - val_loss: 0.6862 - val_acc: 0.8000\n",
            "Epoch 92/100\n",
            "6/6 [==============================] - 9s 2s/step - loss: 0.4059 - acc: 0.8182 - val_loss: 0.2762 - val_acc: 0.8333\n",
            "Epoch 93/100\n",
            "6/6 [==============================] - 9s 2s/step - loss: 0.2189 - acc: 1.0000 - val_loss: 0.7571 - val_acc: 0.3333\n",
            "Epoch 94/100\n",
            "6/6 [==============================] - 8s 1s/step - loss: 0.3905 - acc: 1.0000 - val_loss: 0.1746 - val_acc: 0.6000\n",
            "Epoch 95/100\n",
            "6/6 [==============================] - 9s 2s/step - loss: 0.4495 - acc: 0.9091 - val_loss: 0.2162 - val_acc: 0.3333\n",
            "Epoch 96/100\n",
            "6/6 [==============================] - 8s 1s/step - loss: 0.2835 - acc: 1.0000 - val_loss: 0.0673 - val_acc: 0.4000\n",
            "Epoch 97/100\n",
            "6/6 [==============================] - 8s 1s/step - loss: 0.2577 - acc: 1.0000 - val_loss: 1.2388 - val_acc: 0.1667\n",
            "Epoch 98/100\n",
            "6/6 [==============================] - 9s 2s/step - loss: 0.3884 - acc: 0.6364 - val_loss: 0.3682 - val_acc: 0.8333\n",
            "Epoch 99/100\n",
            "6/6 [==============================] - 8s 1s/step - loss: 0.2729 - acc: 0.9000 - val_loss: 0.0299 - val_acc: 1.0000\n",
            "Epoch 100/100\n",
            "6/6 [==============================] - 9s 2s/step - loss: 0.2457 - acc: 1.0000 - val_loss: 0.2676 - val_acc: 0.5000\n"
          ],
          "name": "stdout"
        }
      ]
    },
    {
      "cell_type": "code",
      "metadata": {
        "id": "YF1ouJgwRH3_",
        "colab": {
          "base_uri": "https://localhost:8080/",
          "height": 562
        },
        "outputId": "da3cb861-eea8-44a7-a03a-84040dbfcbbb"
      },
      "source": [
        "acc = history.history['acc']\n",
        "val_acc = history.history['val_acc']\n",
        "loss = history.history['loss']\n",
        "val_loss = history.history['val_loss']\n",
        "\n",
        "epochs = range(1, len(acc) + 1)\n",
        "\n",
        "plt.plot(epochs, acc, 'bo', label='Training acc')\n",
        "plt.plot(epochs, val_acc, 'b', label='Validation acc')\n",
        "plt.title('Training and validation accuracy')\n",
        "plt.legend(loc='best')\n",
        "\n",
        "plt.figure()\n",
        "plt.plot(epochs, loss, 'bo', label='Training loss')\n",
        "plt.plot(epochs, val_loss, 'b', label='Validation loss')\n",
        "plt.title('Training and validation loss')\n",
        "plt.legend(loc='best')"
      ],
      "execution_count": null,
      "outputs": [
        {
          "output_type": "execute_result",
          "data": {
            "text/plain": [
              "<matplotlib.legend.Legend at 0x7f9a860cacf8>"
            ]
          },
          "metadata": {
            "tags": []
          },
          "execution_count": 7
        },
        {
          "output_type": "display_data",
          "data": {
            "image/png": "[encoded data removed]",
            "text/plain": [
              "<Figure size 432x288 with 1 Axes>"
            ]
          },
          "metadata": {
            "tags": [],
            "needs_background": "light"
          }
        },
        {
          "output_type": "display_data",
          "data": {
            "image/png": "[encoded data removed]",
            "text/plain": [
              "<Figure size 432x288 with 1 Axes>"
            ]
          },
          "metadata": {
            "tags": [],
            "needs_background": "light"
          }
        }
      ]
    },
    {
      "cell_type": "code",
      "metadata": {
        "id": "b9weWgTVRMmP"
      },
      "source": [
        "model.save('cancer_CNN_minimum.h5')\n",
        "model.save_weights('cancer_CNN_Weights_minimum.h5')"
      ],
      "execution_count": null,
      "outputs": []
    },
    {
      "cell_type": "code",
      "metadata": {
        "id": "u7eo3_73Qr-R",
        "colab": {
          "base_uri": "https://localhost:8080/",
          "height": 34
        },
        "outputId": "0b866ea2-dfbe-49c2-e497-0c05a62f6c2f"
      },
      "source": [
        "test_generator.filenames"
      ],
      "execution_count": null,
      "outputs": [
        {
          "output_type": "execute_result",
          "data": {
            "text/plain": [
              "[]"
            ]
          },
          "metadata": {
            "tags": []
          },
          "execution_count": 9
        }
      ]
    },
    {
      "cell_type": "code",
      "metadata": {
        "id": "R46GEytORZoV"
      },
      "source": [
        ""
      ],
      "execution_count": null,
      "outputs": []
    },
    {
      "cell_type": "code",
      "metadata": {
        "id": "MSXiAvt6RQ4k",
        "colab": {
          "base_uri": "https://localhost:8080/",
          "height": 955
        },
        "outputId": "e66b4b5d-0bfc-4927-a8aa-0ad871d96584"
      },
      "source": [
        "model.pop()\n",
        "model.pop()\n",
        "model.compile(loss='categorical_crossentropy', optimizer=optimizers.RMSprop(lr=1e-5), metrics=['acc'])\n",
        "model.summary()"
      ],
      "execution_count": null,
      "outputs": [
        {
          "output_type": "stream",
          "text": [
            "Model: \"sequential_1\"\n",
            "_________________________________________________________________\n",
            "Layer (type)                 Output Shape              Param #   \n",
            "=================================================================\n",
            "conv2d_1 (Conv2D)            (None, 240, 240, 96)      34944     \n",
            "_________________________________________________________________\n",
            "activation_1 (Activation)    (None, 240, 240, 96)      0         \n",
            "_________________________________________________________________\n",
            "max_pooling2d_1 (MaxPooling2 (None, 80, 80, 96)        0         \n",
            "_________________________________________________________________\n",
            "batch_normalization_1 (Batch (None, 80, 80, 96)        384       \n",
            "_________________________________________________________________\n",
            "conv2d_2 (Conv2D)            (None, 76, 76, 256)       614656    \n",
            "_________________________________________________________________\n",
            "activation_2 (Activation)    (None, 76, 76, 256)       0         \n",
            "_________________________________________________________________\n",
            "max_pooling2d_2 (MaxPooling2 (None, 25, 25, 256)       0         \n",
            "_________________________________________________________________\n",
            "batch_normalization_2 (Batch (None, 25, 25, 256)       1024      \n",
            "_________________________________________________________________\n",
            "conv2d_3 (Conv2D)            (None, 23, 23, 384)       885120    \n",
            "_________________________________________________________________\n",
            "max_pooling2d_3 (MaxPooling2 (None, 7, 7, 384)         0         \n",
            "_________________________________________________________________\n",
            "batch_normalization_3 (Batch (None, 7, 7, 384)         1536      \n",
            "_________________________________________________________________\n",
            "conv2d_4 (Conv2D)            (None, 6, 6, 384)         590208    \n",
            "_________________________________________________________________\n",
            "max_pooling2d_4 (MaxPooling2 (None, 2, 2, 384)         0         \n",
            "_________________________________________________________________\n",
            "batch_normalization_4 (Batch (None, 2, 2, 384)         1536      \n",
            "_________________________________________________________________\n",
            "conv2d_5 (Conv2D)            (None, 1, 1, 384)         590208    \n",
            "_________________________________________________________________\n",
            "activation_3 (Activation)    (None, 1, 1, 384)         0         \n",
            "_________________________________________________________________\n",
            "max_pooling2d_5 (MaxPooling2 (None, 1, 1, 384)         0         \n",
            "_________________________________________________________________\n",
            "batch_normalization_5 (Batch (None, 1, 1, 384)         1536      \n",
            "_________________________________________________________________\n",
            "conv2d_6 (Conv2D)            (None, 1, 1, 256)         98560     \n",
            "_________________________________________________________________\n",
            "max_pooling2d_6 (MaxPooling2 (None, 1, 1, 256)         0         \n",
            "_________________________________________________________________\n",
            "batch_normalization_6 (Batch (None, 1, 1, 256)         1024      \n",
            "_________________________________________________________________\n",
            "dropout_1 (Dropout)          (None, 1, 1, 256)         0         \n",
            "_________________________________________________________________\n",
            "flatten_1 (Flatten)          (None, 256)               0         \n",
            "=================================================================\n",
            "Total params: 2,820,736\n",
            "Trainable params: 2,817,216\n",
            "Non-trainable params: 3,520\n",
            "_________________________________________________________________\n"
          ],
          "name": "stdout"
        }
      ]
    },
    {
      "cell_type": "code",
      "metadata": {
        "id": "qhRe-18qQiWU"
      },
      "source": [
        "#test_datagen = ImageDataGenerator(rescale=1./255)\n",
        "#test_generator = train_datagen.flow_from_directory('/home/smartlab/Desktop/TRAIN', target_size=(RESOLUTION, RESOLUTION), batch_size=BATCH_SIZE, class_mode='categorical')"
      ],
      "execution_count": null,
      "outputs": []
    },
    {
      "cell_type": "code",
      "metadata": {
        "id": "dTwcMGVoRbta"
      },
      "source": [
        "\n",
        "Y_pred = model.predict_generator(test_generator, steps = 5)\n",
        "\n",
        "#############################################################################\n",
        "\n",
        "np.save('features_minimum.npy', Y_pred)\n",
        "\n",
        "############################################################################\n",
        "\n",
        "output_file = []\n",
        "for name, arr_ in zip(test_generator.filenames, Y_pred):\n",
        "    output_file.append((name, arr_))\n",
        "\n",
        "###########################################################################\n",
        "\n",
        "with open('output_features.txt', 'w') as f:\n",
        "    for i in output_file:\n",
        "        f.write('{}, {}\\n'.format(i[0], i[1]))\n",
        "        "
      ],
      "execution_count": null,
      "outputs": []
    }
  ]
}